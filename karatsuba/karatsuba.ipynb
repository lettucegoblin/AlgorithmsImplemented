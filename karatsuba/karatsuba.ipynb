{
 "cells": [
  {
   "cell_type": "code",
   "execution_count": 8,
   "metadata": {},
   "outputs": [
    {
     "name": "stdout",
     "output_type": "stream",
     "text": [
      "a=2101, b=1130, n=4\n",
      "a1=21, a0=01, b1=11, b0=30\n",
      "Calling c2: karatsuba(a1:21, b1:11)\n",
      "  a=21, b=11, n=2\n",
      "  a1=2, a0=1, b1=1, b0=1\n",
      "  Calling c2: karatsuba(a1:2, b1:1)\n",
      "    a=2, b=1, n=1\n",
      "    a1=2, a0=0, b1=1, b0=0\n",
      "    Base Case: 2 * 1 = 2\n",
      "  Calling c0: karatsuba(a0:1, b0:1)\n",
      "    a=1, b=1, n=1\n",
      "    a1=1, a0=0, b1=1, b0=0\n",
      "    Base Case: 1 * 1 = 1\n",
      "  Calling c1: karatsuba((a0:1 + a1:2):3, (b0:1 + b1:1):2) - (c2:02 + c0:01)\n",
      "    a=3, b=2, n=1\n",
      "    a1=3, a0=0, b1=2, b0=0\n",
      "    Base Case: 3 * 2 = 6\n",
      "  c0=01, c1=03, c2=02\n",
      "  c= (c2:02 * 10**(2)) + ((c1:03) * 10**(1)) + c0:01 = 231\n",
      "Calling c0: karatsuba(a0:01, b0:30)\n",
      "  a=01, b=30, n=2\n",
      "  a1=0, a0=1, b1=3, b0=0\n",
      "  Base Case: 1 * 30 = 30\n",
      "Calling c1: karatsuba((a0:01 + a1:21):22, (b0:30 + b1:11):41) - (c2:0231 + c0:0030)\n",
      "  a=22, b=41, n=2\n",
      "  a1=2, a0=2, b1=4, b0=1\n",
      "  Calling c2: karatsuba(a1:2, b1:4)\n",
      "    a=2, b=4, n=1\n",
      "    a1=2, a0=0, b1=4, b0=0\n",
      "    Base Case: 2 * 4 = 8\n",
      "  Calling c0: karatsuba(a0:2, b0:1)\n",
      "    a=2, b=1, n=1\n",
      "    a1=2, a0=0, b1=1, b0=0\n",
      "    Base Case: 2 * 1 = 2\n",
      "  Calling c1: karatsuba((a0:2 + a1:2):4, (b0:1 + b1:4):5) - (c2:08 + c0:02)\n",
      "    a=4, b=5, n=1\n",
      "    a1=4, a0=0, b1=5, b0=0\n",
      "    Base Case: 4 * 5 = 20\n",
      "  c0=02, c1=10, c2=08\n",
      "  c= (c2:08 * 10**(2)) + ((c1:10) * 10**(1)) + c0:02 = 902\n",
      "c0=0030, c1=0641, c2=0231\n",
      "c= (c2:0231 * 10**(4)) + ((c1:0641) * 10**(2)) + c0:0030 = 2374130\n"
     ]
    },
    {
     "data": {
      "text/plain": [
       "2374130"
      ]
     },
     "execution_count": 8,
     "metadata": {},
     "output_type": "execute_result"
    }
   ],
   "source": [
    "def karatsuba_verbose(a, b, level=0):\n",
    "  n = max(len(str(a)), len(str(b))) # get the max length of a and b in digits\n",
    "  m2 = n // 2 # get the middle point\n",
    "\n",
    "  a1, a0 = a // 10**m2, a % 10**m2 # split a into two parts\n",
    "  b1, b0 = b // 10**m2, b % 10**m2 # split b into two parts\n",
    "\n",
    "  print(f\"{'  '*level}a={str(a).zfill(n)}, b={str(b).zfill(n)}, n={n}\")\n",
    "  print(f\"{'  '*level}a1={str(a1).zfill(n // 2)}, a0={str(a0).zfill(n // 2)}, b1={str(b1).zfill(n // 2)}, b0={str(b0).zfill(n // 2)}\")\n",
    "\n",
    "  if (a < 10 or b < 10): # if a or b is single digit\n",
    "    print(f\"{'  '*level}Base Case: {a} * {b} = {a*b}\")\n",
    "    return a * b\n",
    "\n",
    "  a0_s = str(a0).zfill(n // 2)\n",
    "  b0_s = str(b0).zfill(n // 2)\n",
    "  a1_s = str(a1).zfill(n // 2)\n",
    "  b1_s = str(b1).zfill(n // 2)\n",
    "\n",
    "  # calling c2 karatsuba(a1, b1)\n",
    "  print(f\"{'  '*level}Calling c2: karatsuba(a1:{a1_s}, b1:{b1_s})\")\n",
    "  c2 = karatsuba_verbose(a1, b1, level+1)\n",
    "  c2_s = str(c2).zfill(n)\n",
    "  # calling c0 karatsuba(a0, b0)\n",
    "  print(f\"{'  '*level}Calling c0: karatsuba(a0:{a0_s}, b0:{b0_s})\")\n",
    "  c0 = karatsuba_verbose(a0, b0, level+1)\n",
    "  c0_s = str(c0).zfill(n)\n",
    "  # calling c1 karatsuba((a0 + a1), (b0 + b1))\n",
    "  print(f\"{'  '*level}Calling c1: karatsuba((a0:{a0_s} + a1:{a1_s}):{a0 + a1}, (b0:{b0_s} + b1:{b1}):{b0 + b1}) - (c2:{c2_s} + c0:{c0_s})\")\n",
    "  c1 = karatsuba_verbose((a0 + a1), (b0 + b1), level+1) - (c2 + c0)\n",
    "  c1_s = str(c1).zfill(n)\n",
    "  \n",
    "\n",
    "  print(f\"{'  '*level}c0={c0_s}, c1={c1_s}, c2={c2_s}\")\n",
    "\n",
    "  c = (c2 * 10**(2*m2)) + ((c1) * 10**m2) + c0\n",
    "  print(f\"{'  '*level}c= (c2:{c2_s} * 10**({2*m2})) + ((c1:{c1_s}) * 10**({m2})) + c0:{c0_s} = {c}\")\n",
    "  return c\n",
    "\n",
    "karatsuba_verbose(2101,1130)\n"
   ]
  },
  {
   "cell_type": "code",
   "execution_count": 4,
   "metadata": {},
   "outputs": [
    {
     "data": {
      "text/plain": [
       "2374130"
      ]
     },
     "execution_count": 4,
     "metadata": {},
     "output_type": "execute_result"
    }
   ],
   "source": [
    "import math\n",
    "\n",
    "def karatsuba(a, b):\n",
    "    if (a < 10 or b < 10): # if a or b is single digit\n",
    "        return a * b\n",
    "\n",
    "    m = max(len(str(a)), len(str(b))) # get the max length of a and b in digits\n",
    "    m2 = m // 2 # get the middle point\n",
    "\n",
    "    a1, a0 = a // 10**m2, a % 10**m2 # split a into two parts\n",
    "    b1, b0 = b // 10**m2, b % 10**m2 # split b into two parts\n",
    "\n",
    "    c0 = karatsuba(a0, b0)\n",
    "    c1 = karatsuba((a0 + a1), (b0 + b1))\n",
    "    c2 = karatsuba(a1, b1)\n",
    "\n",
    "    return (c2 * 10**(2*m2)) + ((c1 - c2 - c0) * 10**m2) + c0\n",
    "\n",
    "karatsuba(2101,1130)"
   ]
  }
 ],
 "metadata": {
  "kernelspec": {
   "display_name": "base",
   "language": "python",
   "name": "python3"
  },
  "language_info": {
   "codemirror_mode": {
    "name": "ipython",
    "version": 3
   },
   "file_extension": ".py",
   "mimetype": "text/x-python",
   "name": "python",
   "nbconvert_exporter": "python",
   "pygments_lexer": "ipython3",
   "version": "3.11.5"
  }
 },
 "nbformat": 4,
 "nbformat_minor": 2
}
